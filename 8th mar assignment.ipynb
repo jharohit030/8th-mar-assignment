{
 "cells": [
  {
   "cell_type": "code",
   "execution_count": null,
   "id": "e1392309",
   "metadata": {},
   "outputs": [],
   "source": [
    "#Question 1:\n",
    "\n",
    "A probability density function (PDF) is a mathematical function that describes the probability distribution of a continuous random variable. It is used to calculate the probability that a continuous random variable takes a particular value within a range of values.\n",
    "The probability density function is non-negative and integrates to 1 over the entire range of the random variable. It is used extensively in statistical analysis, probability theory, and in various fields such as physics, engineering, economics, and finance, among others."
   ]
  },
  {
   "cell_type": "code",
   "execution_count": null,
   "id": "ea4429e9",
   "metadata": {},
   "outputs": [],
   "source": [
    "#Question 2:\n",
    "\n",
    "There are many types of probability distributions, but some of the most common ones include.\n",
    "\n",
    "1.Normal distribution: Also known as the Gaussian distribution, this is a continuous probability distribution that is symmetric and bell-shaped. It is commonly used in statistics and probability theory.\n",
    "2.Binomial distribution: This is a discrete probability distribution that describes the probability of a fixed number of successes in a fixed number of independent trials. It is commonly used in statistics and experimental design.\n",
    "3.Poisson distribution: This is a discrete probability distribution that describes the probability of a given number of events occurring in a fixed interval of time or space. It is commonly used in modeling rare events or processes with a low probability of occurrence.\n",
    "4.Exponential distribution: This is a continuous probability distribution that describes the time between events in a Poisson process. It is commonly used in reliability engineering and queuing theory.\n",
    "5.Uniform distribution: This is a continuous probability distribution where all values within a given interval have equal probability. It is commonly used in statistics and probability theory."
   ]
  },
  {
   "cell_type": "code",
   "execution_count": 12,
   "id": "f5064a47",
   "metadata": {},
   "outputs": [],
   "source": [
    "#Question 3:\n",
    "\n",
    "import math\n",
    "\n",
    "def normal_pdf(x, mean, std):\n",
    "    exponent  = -((x-mean)**2)/(2*std**2)\n",
    "    coefficient = 1/(std*math.sqrt(2*math.pi))\n",
    "    \n",
    "    return coefficient * math.exp(exponent)"
   ]
  },
  {
   "cell_type": "code",
   "execution_count": 13,
   "id": "1a70fe30",
   "metadata": {},
   "outputs": [],
   "source": [
    "pdf_value = normal_pdf(2.5,3,0.5)"
   ]
  },
  {
   "cell_type": "code",
   "execution_count": 14,
   "id": "8089ee94",
   "metadata": {},
   "outputs": [
    {
     "data": {
      "text/plain": [
       "0.48394144903828673"
      ]
     },
     "execution_count": 14,
     "metadata": {},
     "output_type": "execute_result"
    }
   ],
   "source": [
    "pdf_value"
   ]
  },
  {
   "cell_type": "code",
   "execution_count": null,
   "id": "b25d96d5",
   "metadata": {},
   "outputs": [],
   "source": [
    "#Question 4:\n",
    "\n",
    "The binomial distribution has the following properties:\n",
    "\n",
    "1.The random variable X is the number of \"successes\" in n independent trials, where each trial has a fixed probability p of success.\n",
    "2.The trials are independent and identically distributed.\n",
    "3.The probability of success p is constant across all trials.\n",
    "4.The outcomes of the trials are binary, either success or failure.\n",
    "\n",
    "Example\n",
    "\n",
    "1.Flipping a coin: When flipping a coin, the outcome of each flip is either heads or tails, which is a binary outcome. If we flip a coin n times, with a fixed probability p of getting heads, then the number of times we get heads follows a binomial distribution.\n",
    "2.Quality control inspection: In a manufacturing process, items are inspected for quality control purposes. The outcome of each inspection is either defective or non-defective, which is a binary outcome. If we inspect n items, with a fixed probability p of getting a defective item, then the number of defective items follows a binomial distribution."
   ]
  },
  {
   "cell_type": "code",
   "execution_count": 19,
   "id": "c9c2230b",
   "metadata": {},
   "outputs": [
    {
     "data": {
      "image/png": "[encoded data removed]",
      "text/plain": [
       "<Figure size 640x480 with 1 Axes>"
      ]
     },
     "metadata": {},
     "output_type": "display_data"
    }
   ],
   "source": [
    "#Question 5:\n",
    "\n",
    "import numpy as np\n",
    "import matplotlib.pyplot as plt\n",
    "\n",
    "n = 1000\n",
    "p = 0.4\n",
    "\n",
    "sample = np.random.binomial(n,p, size = n)\n",
    "plt.hist(sample, bins = 20, alpha = 0.7,density =True, color = 'blue')\n",
    "plt.title('Histogram of Binomial Distribution')\n",
    "plt.xlabel('No. of Success')\n",
    "plt.ylabel('Density')\n",
    "plt.show()"
   ]
  },
  {
   "cell_type": "code",
   "execution_count": 20,
   "id": "7fd3f3b0",
   "metadata": {},
   "outputs": [],
   "source": [
    "#Question 6:\n",
    "\n",
    "import math\n",
    "\n",
    "def poisson_cdf(x,mean):\n",
    "    cdf = 0\n",
    "    for i in range(x+1):\n",
    "        cdf += (mean**i * math.exp(-mean))/math.factorial(i)\n",
    "    return cdf"
   ]
  },
  {
   "cell_type": "code",
   "execution_count": 21,
   "id": "1cc822a3",
   "metadata": {},
   "outputs": [],
   "source": [
    "cdf_value = poisson_cdf(3, 2.5)"
   ]
  },
  {
   "cell_type": "code",
   "execution_count": 22,
   "id": "b87af386",
   "metadata": {},
   "outputs": [
    {
     "data": {
      "text/plain": [
       "0.7575761331330659"
      ]
     },
     "execution_count": 22,
     "metadata": {},
     "output_type": "execute_result"
    }
   ],
   "source": [
    "cdf_value"
   ]
  },
  {
   "cell_type": "code",
   "execution_count": null,
   "id": "6357e76a",
   "metadata": {},
   "outputs": [],
   "source": [
    "#Question 7:\n",
    "\n",
    "Binomial distribution and Poisson distribution are both probability distributions, but they have different characteristics and are used to model different types of events.\n",
    "\n",
    "Here are some key differences between Binomial and Poisson distributions:\n",
    "\n",
    "1.Definition: The Binomial distribution models the number of successes in a fixed number of independent Bernoulli trials, while the Poisson distribution models the number of rare events occurring in a fixed amount of time or space.\n",
    "\n",
    "2.Number of trials: In the Binomial distribution, the number of trials is fixed and usually small, while in the Poisson distribution, the number of events is not fixed and can be very large.\n",
    "    \n",
    "3.Probability of success: In the Binomial distribution, the probability of success is constant for each trial, while in the Poisson distribution, the probability of success decreases as the number of events increases.\n",
    "\n",
    "4.Continuity: The Binomial distribution is a discrete distribution, meaning that its possible values are integers, while the Poisson distribution can be treated as a continuous distribution under certain conditions.\n",
    "\n",
    "5.Mean and variance: In the Binomial distribution, both the mean and variance depend on the number of trials and the probability of success, while in the Poisson distribution, both the mean and variance are equal to the rate parameter lambda."
   ]
  },
  {
   "cell_type": "code",
   "execution_count": 23,
   "id": "acccc28b",
   "metadata": {},
   "outputs": [
    {
     "name": "stdout",
     "output_type": "stream",
     "text": [
      "Sample mean: 5.027\n",
      "Sample variance: 5.329600600600601\n"
     ]
    }
   ],
   "source": [
    "#Question 8:\n",
    "\n",
    "import numpy as np\n",
    "\n",
    "n = 1000  \n",
    "mean = 5 \n",
    "sample = np.random.poisson(mean, size=n)\n",
    "\n",
    "sample_mean = np.mean(sample)\n",
    "sample_variance = np.var(sample, ddof = 1)\n",
    "\n",
    "print(\"Sample mean:\", sample_mean)\n",
    "print(\"Sample variance:\", sample_variance)\n"
   ]
  },
  {
   "cell_type": "code",
   "execution_count": null,
   "id": "eea16525",
   "metadata": {},
   "outputs": [],
   "source": [
    "#Question 9:\n",
    "\n",
    "In Binomial distribution, the mean and variance are related to the number of trials and the probability of success. Specifically, if X is a Binomial random variable representing the number of successes in n independent Bernoulli trials, each with probability of success p, then the mean and variance of X .\n",
    "In Poisson distribution, the mean and variance are equal to the rate parameter lambda. Specifically, if X is a Poisson random variable representing the number of rare events occurring in a fixed amount of time or space."
   ]
  },
  {
   "cell_type": "code",
   "execution_count": null,
   "id": "1c63a6f3",
   "metadata": {},
   "outputs": [],
   "source": [
    "#Question 10:\n",
    "\n",
    "In a normal distribution, the data is symmetrically distributed around the mean, with the highest frequency of data occurring at the mean. As we move away from the mean, the frequency of data gradually decreases in a smooth and symmetric manner, forming the characteristic bell-shaped curve.\n",
    "\n",
    "The least frequent data in a normal distribution appears in the tails of the distribution, which are the regions of the curve farthest from the mean. Specifically, the data that falls more than 1 standard deviation away from the mean occurs with a relatively low frequency of about 32%, while the data that falls more than 2 standard deviations away from the mean occurs with a much lower frequency of about 5%. Similarly, the data that falls more than 3 standard deviations away from the mean occurs with an even lower frequency of about 0.3%."
   ]
  }
 ],
 "metadata": {
  "kernelspec": {
   "display_name": "Python 3 (ipykernel)",
   "language": "python",
   "name": "python3"
  },
  "language_info": {
   "codemirror_mode": {
    "name": "ipython",
    "version": 3
   },
   "file_extension": ".py",
   "mimetype": "text/x-python",
   "name": "python",
   "nbconvert_exporter": "python",
   "pygments_lexer": "ipython3",
   "version": "3.10.9"
  }
 },
 "nbformat": 4,
 "nbformat_minor": 5
}
